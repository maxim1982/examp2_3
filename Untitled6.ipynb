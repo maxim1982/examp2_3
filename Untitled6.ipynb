{
  "cells": [
    {
      "cell_type": "markdown",
      "metadata": {
        "id": "view-in-github",
        "colab_type": "text"
      },
      "source": [
        "<a href=\"https://colab.research.google.com/github/maxim1982/examp2_3/blob/master/Untitled6.ipynb\" target=\"_parent\"><img src=\"https://colab.research.google.com/assets/colab-badge.svg\" alt=\"Open In Colab\"/></a>"
      ]
    },
    {
      "cell_type": "code",
      "execution_count": null,
      "metadata": {
        "colab": {
          "base_uri": "https://localhost:8080/"
        },
        "id": "yBbocXZ-ojBp",
        "outputId": "8df8cb9f-6d3e-4349-a598-b21ee89f1998"
      },
      "outputs": [
        {
          "name": "stdout",
          "output_type": "stream",
          "text": [
            "\u001b[K     |████████████████████████████████| 1.9 MB 12.7 MB/s \n",
            "\u001b[K     |████████████████████████████████| 62 kB 1.4 MB/s \n",
            "\u001b[?25h"
          ]
        }
      ],
      "source": [
        "!pip install -q -U kaggle_environments"
      ]
    },
    {
      "cell_type": "code",
      "execution_count": null,
      "metadata": {
        "id": "w0DHGP62p2jE"
      },
      "outputs": [],
      "source": [
        "import numpy as np\n",
        "import pandas as pd\n",
        "import random\n",
        "\n",
        "import matplotlib.pyplot as plt\n",
        "import seaborn as sns\n",
        "\n",
        "from kaggle_environments import evaluate\n"
      ]
    },
    {
      "cell_type": "code",
      "execution_count": 7,
      "metadata": {
        "colab": {
          "base_uri": "https://localhost:8080/"
        },
        "id": "A_dzGqM1p_oe",
        "outputId": "4882ec45-338c-44c9-b8da-ecff52c24e66"
      },
      "outputs": [
        {
          "output_type": "stream",
          "name": "stdout",
          "text": [
            "Overwriting paper_agent.py\n"
          ]
        }
      ],
      "source": [
        "%%writefile paper_agent.py\n",
        "\n",
        "def paper_agent(observation, configuration):\n",
        "    return 1 # всегда выдает значение \"бумага\""
      ]
    },
    {
      "cell_type": "code",
      "execution_count": null,
      "metadata": {
        "colab": {
          "base_uri": "https://localhost:8080/"
        },
        "id": "V4BXPvXrqGtp",
        "outputId": "aa0fa113-6bae-4939-f29c-0cdd2773bc18"
      },
      "outputs": [
        {
          "name": "stdout",
          "output_type": "stream",
          "text": [
            "Writing rock_agent.py\n"
          ]
        }
      ],
      "source": [
        "%%writefile rock_agent.py\n",
        "\n",
        "def rock_agent (observation, configuration):\n",
        "    return 0 # всегда выдает значение \"камень\""
      ]
    },
    {
      "cell_type": "code",
      "execution_count": 10,
      "metadata": {
        "colab": {
          "base_uri": "https://localhost:8080/"
        },
        "id": "bbupzC-zqKwv",
        "outputId": "19cbc099-0360-4505-9a34-38b6fb8572ae"
      },
      "outputs": [
        {
          "output_type": "stream",
          "name": "stdout",
          "text": [
            "[[-100.0, 100.0]]\n"
          ]
        }
      ],
      "source": [
        "for i\n",
        "  for j\n",
        "\n",
        "res = evaluate(\n",
        "    \"rps\", #environment to use - no need to change\n",
        "    [i, j], #agents to evaluate\n",
        "    configuration={\"episodeSteps\": 101} # количество бросков в одну игру 100 - в этом варианте все игры выиграет как и ожидалась игрок \"Только бумага\"\n",
        ")\n",
        "\n",
        "print(res)"
      ]
    },
    {
      "cell_type": "code",
      "source": [
        "%%writefile opp_last_turn_r_and_p.py\n",
        "\n",
        "def opp_last_turn_r_and_p(observation, configuration):\n",
        "\n",
        "# тут камень и бумагу оппонента мы отвечаем камнем, а на ножницы бумагой\n",
        "\n",
        "  import random # без вот этого всегда возвращает None в первом броске\n",
        "  # когда у нас есть информация о последнем шаге оппонента\n",
        "  \n",
        "  if observation.step > 0: # то есть если у нас не 0 шаг игры\n",
        "    return int(observation.lastOpponentAction / 3)\n",
        "  \n",
        "  # иначе возвращаем случайное\n",
        "  else:\n",
        "    return random.randrange(0, configuration.signs) #"
      ],
      "metadata": {
        "colab": {
          "base_uri": "https://localhost:8080/"
        },
        "id": "B6Gwd1PMqyM3",
        "outputId": "aa774e49-4d45-4b8a-af13-2968ad0eca08"
      },
      "execution_count": 9,
      "outputs": [
        {
          "output_type": "stream",
          "name": "stdout",
          "text": [
            "Writing opp_last_turn_r_and_p.py\n"
          ]
        }
      ]
    }
  ],
  "metadata": {
    "colab": {
      "provenance": [],
      "authorship_tag": "ABX9TyOoediqR5xdVvJWPCkZJQTc",
      "include_colab_link": true
    },
    "kernelspec": {
      "display_name": "Python 3",
      "name": "python3"
    },
    "language_info": {
      "name": "python"
    }
  },
  "nbformat": 4,
  "nbformat_minor": 0
}